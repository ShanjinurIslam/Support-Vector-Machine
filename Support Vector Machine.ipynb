{
 "cells": [
  {
   "cell_type": "code",
   "execution_count": 230,
   "metadata": {},
   "outputs": [],
   "source": [
    "import numpy as np\n",
    "import cvxopt\n",
    "import matplotlib.pyplot as plt"
   ]
  },
  {
   "cell_type": "code",
   "execution_count": 231,
   "metadata": {},
   "outputs": [],
   "source": [
    "file = open(\"Train.txt\")\n",
    "\n",
    "lines = file.readlines()\n",
    "\n",
    "numClass, numFeatures, datasetLen = 0,0,0\n",
    "\n",
    "count = 0\n",
    "dataset = []\n",
    "\n",
    "for line in lines:\n",
    "    if count == 0:\n",
    "        var = line.split()\n",
    "        numClass = int(var[0])\n",
    "        numFeatures = int(var[1])\n",
    "        datasetLen = int(var[2])\n",
    "    else:\n",
    "        var = line.split()\n",
    "        var = [float(x) for x in var]\n",
    "        dataset.append(var)\n",
    "    \n",
    "    count += 1"
   ]
  },
  {
   "cell_type": "code",
   "execution_count": 232,
   "metadata": {},
   "outputs": [],
   "source": [
    "X = []\n",
    "y = []\n",
    "\n",
    "for i in range(datasetLen):\n",
    "    X.append(dataset[i][:numFeatures])\n",
    "    if dataset[i][numFeatures] == 1:\n",
    "        y.append(+1.0)\n",
    "    else:\n",
    "        y.append(-1.0)\n",
    "        \n",
    "X = np.array(X)\n",
    "y = np.array(y)"
   ]
  },
  {
   "cell_type": "code",
   "execution_count": 233,
   "metadata": {},
   "outputs": [],
   "source": [
    "class SVM:\n",
    "    def fit(self, X, y):\n",
    "        n_samples, n_features = X.shape\n",
    "        # P = X^T X\n",
    "        K = np.zeros((n_samples, n_samples))\n",
    "    \n",
    "        for i in range(n_samples):\n",
    "            for j in range(n_samples):\n",
    "                K[i,j] = np.dot(y[i]*X[i], y[j]*X[j])\n",
    "        \n",
    "        # finding lagrange multiplier using convex optimization lirary\n",
    "        \n",
    "        # P = X^T X where X = y.x\n",
    "        P = cvxopt.matrix(K)\n",
    "        # q = -1 (1xN)\n",
    "        q = cvxopt.matrix(np.ones(n_samples) * -1)\n",
    "        # A = y^T \n",
    "        A = cvxopt.matrix(y, (1, n_samples))\n",
    "        # b = 0 \n",
    "        b = cvxopt.matrix(0.0)\n",
    "        # -1 (NxN)\n",
    "        G = cvxopt.matrix(np.diag(np.ones(n_samples) * -1))\n",
    "        # 0 (1xN) \n",
    "        h = cvxopt.matrix(np.zeros(n_samples))\n",
    "        solution = cvxopt.solvers.qp(P, q, G, h, A, b)\n",
    "        # Lagrange multipliers\n",
    "        a = np.ravel(solution['x'])\n",
    "        # Lagrange have non zero lagrange multipliers\n",
    "        sv = a > 0\n",
    "        ind = np.arange(len(a))[sv]\n",
    "        self.a = a[sv]\n",
    "        self.sv = X[sv]\n",
    "        self.sv_y = y[sv]\n",
    "\n",
    "        # Weights\n",
    "        self.w = np.zeros(n_features)\n",
    "        for n in range(len(self.a)):\n",
    "            self.w += self.a[n] * self.sv_y[n] * self.sv[n]\n",
    "\n",
    "        # intercept        \n",
    "        self.b = 0\n",
    "        for n in range(len(self.a)):\n",
    "            self.b += self.sv_y[n] - np.dot(self.w,self.sv[n])\n",
    "        self.b /= len(self.a)\n",
    "        return self.w,self.b"
   ]
  },
  {
   "cell_type": "code",
   "execution_count": 234,
   "metadata": {},
   "outputs": [
    {
     "name": "stdout",
     "output_type": "stream",
     "text": [
      "     pcost       dcost       gap    pres   dres\n",
      " 0: -1.2264e+00 -1.6344e+00  2e+02  1e+01  1e+00\n",
      " 1: -1.3488e-01 -1.5735e-01  5e+00  4e-01  4e-02\n",
      " 2:  6.1021e-03 -1.4153e-01  1e-01  3e-16  4e-15\n",
      " 3: -3.3408e-02 -5.0691e-02  2e-02  2e-17  1e-15\n",
      " 4: -4.1286e-02 -5.3250e-02  1e-02  5e-17  1e-15\n",
      " 5: -4.7895e-02 -4.9054e-02  1e-03  3e-17  1e-15\n",
      " 6: -4.8877e-02 -4.8896e-02  2e-05  1e-17  1e-15\n",
      " 7: -4.8893e-02 -4.8893e-02  2e-07  2e-17  1e-15\n",
      " 8: -4.8893e-02 -4.8893e-02  2e-09  1e-17  1e-15\n",
      "Optimal solution found.\n",
      "[-0.1885721  -0.24945416]\n"
     ]
    }
   ],
   "source": [
    "svm = SVM()\n",
    "w,b = svm.fit(X,y)\n",
    "print(w)\n",
    "w = np.append(w,b)"
   ]
  },
  {
   "cell_type": "code",
   "execution_count": 235,
   "metadata": {},
   "outputs": [
    {
     "name": "stdout",
     "output_type": "stream",
     "text": [
      "96.0\n"
     ]
    }
   ],
   "source": [
    "file = open(\"Test.txt\")\n",
    "\n",
    "lines = file.readlines()\n",
    "\n",
    "\n",
    "count = 0\n",
    "test_dataset = []\n",
    "accuracy = 0\n",
    "\n",
    "for line in lines:\n",
    "    var = line.split()\n",
    "    var = [float(x) for x in var]\n",
    "    test_dataset.append(var)\n",
    "    \n",
    "    count += 1\n",
    "\n",
    "predictions = []    \n",
    "\n",
    "for i in test_dataset:\n",
    "    x = np.array(i) \n",
    "    group = x[numFeatures]\n",
    "    x[numFeatures] = 1\n",
    "    product = round(np.dot(w,x))\n",
    "    predictions.append(product)\n",
    "    if product>=1:\n",
    "        pred = 1 \n",
    "        if(pred==group):\n",
    "            accuracy += 1\n",
    "    else:\n",
    "        pred = 2 \n",
    "        if(pred==group):\n",
    "            accuracy += 1\n",
    "print((accuracy/len(test_dataset))*100)"
   ]
  },
  {
   "cell_type": "code",
   "execution_count": 236,
   "metadata": {},
   "outputs": [],
   "source": [
    "test_dataset = np.array(test_dataset)\n",
    "test_dataset = test_dataset.transpose()\n",
    "\n",
    "def f(x, w, b, c=0):\n",
    "    return (-w[0] * x - b + c) / w[1]"
   ]
  },
  {
   "cell_type": "code",
   "execution_count": 238,
   "metadata": {},
   "outputs": [
    {
     "data": {
      "text/plain": [
       "[<matplotlib.lines.Line2D at 0x11ede3ad0>]"
      ]
     },
     "execution_count": 238,
     "metadata": {},
     "output_type": "execute_result"
    },
    {
     "data": {
      "image/png": "[encoded data removed]",
      "text/plain": [
       "<Figure size 432x288 with 1 Axes>"
      ]
     },
     "metadata": {
      "needs_background": "light"
     },
     "output_type": "display_data"
    }
   ],
   "source": [
    "plt.plot(test_dataset[0],test_dataset[1],'bo')\n",
    "plt.plot(np.arange(0,10),f(np.arange(0,10), w, b),'red')\n",
    "plt.plot(np.arange(0,10),f(np.arange(0,10), w, b,c=1),'green')\n",
    "plt.plot(np.arange(0,10),f(np.arange(0,10), w, b,c=-1),'orange')"
   ]
  }
 ],
 "metadata": {
  "kernelspec": {
   "display_name": "Python 3",
   "language": "python",
   "name": "python3"
  },
  "language_info": {
   "codemirror_mode": {
    "name": "ipython",
    "version": 3
   },
   "file_extension": ".py",
   "mimetype": "text/x-python",
   "name": "python",
   "nbconvert_exporter": "python",
   "pygments_lexer": "ipython3",
   "version": "3.7.4"
  }
 },
 "nbformat": 4,
 "nbformat_minor": 2
}
